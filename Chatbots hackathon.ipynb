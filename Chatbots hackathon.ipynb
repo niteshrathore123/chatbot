{
 "cells": [
  {
   "cell_type": "code",
   "execution_count": 1,
   "metadata": {
    "collapsed": true
   },
   "outputs": [],
   "source": [
    "from nltk.chat.util import Chat,reflections\n"
   ]
  },
  {
   "cell_type": "code",
   "execution_count": null,
   "metadata": {
    "collapsed": true
   },
   "outputs": [],
   "source": [
    "#selenium->automation drivers\n",
    "#webdrive"
   ]
  },
  {
   "cell_type": "code",
   "execution_count": 2,
   "metadata": {
    "collapsed": true
   },
   "outputs": [],
   "source": [
    "pairs=((r'h(.*)',('Hi there,pleasure to meet you','Hello there,'))      \n",
    "       ,(r'i want (.*)',('what type of enquiry do you want.','what type of enquiry do you want'))\n",
    "       ,(r'i need (.*)',('How may i help you sir.','What kind of help do you want from me.'))\n",
    "       ,(r'my (.*)',('Can you please tell me your good & your mobile no. so that i can help you better.','May I know your good name & your city so that provide you better service.')) \n",
    "       ,(r'9(.*)',('sir! your transaction is successfully done but due to some technical issues message is not sent to you, we are sorry for that.','your transaction is successfully done but due to some technical issues message is not sent to you, we are sorry for that sir!'))\n",
    "       ,(r'it (.*)',('Do you need to know some more','Do you need to get some more information.'))\n",
    "       ,(r'y(.*)',('What do you want to know about.','What do you want to ask to me i will help you sir!'))\n",
    "       ,(r'i(.*)',('your atm card is going to be expire in 2021.','your atm card is going to be expire in 2021.'))\n",
    "       ,(r'o(.*)',('do u know more','do want to know more.'))\n",
    "       ,(r'no(.*)',('Thanx for enquiry its my pleasure to help you! have a great day for any other query u can call our helpline no:- 1800 425 3800.','Thanx for enquiry its my pleasure to help you! have a great day for any other query u can call our helpline no:- 1800 425 3800.'))\n",
    "      )\n",
    "\n",
    "    \n",
    "        \n",
    "\n",
    "        "
   ]
  },
  {
   "cell_type": "code",
   "execution_count": null,
   "metadata": {},
   "outputs": [
    {
     "name": "stdout",
     "output_type": "stream",
     "text": [
      "welcome to SBI Bank\n"
     ]
    }
   ],
   "source": [
    "print(\"welcome to SBI Bank\")\n",
    "cb=Chat(pairs,reflections)\n",
    "cb.converse()"
   ]
  },
  {
   "cell_type": "code",
   "execution_count": 3,
   "metadata": {},
   "outputs": [
    {
     "name": "stdout",
     "output_type": "stream",
     "text": [
      ">quit\n",
      "None\n"
     ]
    }
   ],
   "source": []
  },
  {
   "cell_type": "code",
   "execution_count": null,
   "metadata": {
    "collapsed": true
   },
   "outputs": [],
   "source": []
  },
  {
   "cell_type": "code",
   "execution_count": null,
   "metadata": {
    "collapsed": true
   },
   "outputs": [],
   "source": []
  },
  {
   "cell_type": "code",
   "execution_count": null,
   "metadata": {
    "collapsed": true
   },
   "outputs": [],
   "source": []
  }
 ],
 "metadata": {
  "kernelspec": {
   "display_name": "Python 3",
   "language": "python",
   "name": "python3"
  },
  "language_info": {
   "codemirror_mode": {
    "name": "ipython",
    "version": 3
   },
   "file_extension": ".py",
   "mimetype": "text/x-python",
   "name": "python",
   "nbconvert_exporter": "python",
   "pygments_lexer": "ipython3",
   "version": "3.6.3"
  }
 },
 "nbformat": 4,
 "nbformat_minor": 2
}
